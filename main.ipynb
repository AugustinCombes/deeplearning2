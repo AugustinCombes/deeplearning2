{
 "cells": [
  {
   "cell_type": "code",
   "execution_count": 1,
   "metadata": {},
   "outputs": [],
   "source": [
    "import matplotlib.pyplot as plt\n",
    "import numpy as np\n",
    "from data.alphadigits import BinaryAlphaDigitsDataset\n",
    "from data.mnist import MNISTDataset\n",
    "from torch.utils.data import DataLoader"
   ]
  },
  {
   "cell_type": "code",
   "execution_count": 2,
   "metadata": {},
   "outputs": [],
   "source": [
    "restrict_labels = ['a', 'b', 'c', 'd']\n",
    "input_size = 320 "
   ]
  },
  {
   "attachments": {},
   "cell_type": "markdown",
   "metadata": {},
   "source": [
    "## RBM"
   ]
  },
  {
   "cell_type": "code",
   "execution_count": 3,
   "metadata": {},
   "outputs": [],
   "source": [
    "from principal_RBM_alpha import init_RBM, train_RBM, generer_image_RBM"
   ]
  },
  {
   "cell_type": "code",
   "execution_count": 4,
   "metadata": {},
   "outputs": [
    {
     "name": "stdout",
     "output_type": "stream",
     "text": [
      "Epoch 1 - Reconstruction error: 0.20903158166810804\n",
      "Epoch 101 - Reconstruction error: 0.008143433156045229\n",
      "Epoch 201 - Reconstruction error: 0.0025641142994127365\n",
      "Epoch 301 - Reconstruction error: 0.0011965856378009954\n",
      "Epoch 401 - Reconstruction error: 0.0008077447460975759\n",
      "Epoch 501 - Reconstruction error: 0.00046120284475267007\n",
      "Epoch 601 - Reconstruction error: 0.00034402092378237324\n",
      "Epoch 701 - Reconstruction error: 0.00020515616570169204\n",
      "Epoch 801 - Reconstruction error: 0.00017881009923621644\n",
      "Epoch 901 - Reconstruction error: 0.0001778881662553871\n",
      "Epoch 1001 - Reconstruction error: 0.00010725074215962807\n"
     ]
    },
    {
     "data": {
      "image/png": "[encoded data removed]",
      "text/plain": [
       "<Figure size 432x288 with 1 Axes>"
      ]
     },
     "metadata": {
      "needs_background": "light"
     },
     "output_type": "display_data"
    }
   ],
   "source": [
    "rbm = init_RBM(input_size, 100)\n",
    "rbm = train_RBM(rbm, epochs=1001,\n",
    "                ds=BinaryAlphaDigitsDataset(restrict_labels=restrict_labels))\n",
    "generer_image_RBM(rbm, num_iterations=500, num_images=1)"
   ]
  },
  {
   "cell_type": "markdown",
   "metadata": {},
   "source": [
    "## DBN"
   ]
  },
  {
   "cell_type": "code",
   "execution_count": 5,
   "metadata": {},
   "outputs": [
    {
     "name": "stdout",
     "output_type": "stream",
     "text": [
      "Training RBM 1\n",
      "Epoch 1 - Reconstruction error: 0.22530879096883938\n",
      "Epoch 101 - Reconstruction error: 0.0654980195290439\n",
      "Epoch 201 - Reconstruction error: 0.040198266809320524\n",
      "Epoch 301 - Reconstruction error: 0.026894807162492314\n",
      "Epoch 401 - Reconstruction error: 0.018734991634490557\n",
      "Epoch 501 - Reconstruction error: 0.014353394148570597\n",
      "Epoch 601 - Reconstruction error: 0.011411658609381667\n",
      "Epoch 701 - Reconstruction error: 0.008945656559020541\n",
      "Epoch 801 - Reconstruction error: 0.007613475289910144\n",
      "Epoch 901 - Reconstruction error: 0.006077858348861551\n",
      "Training RBM 2\n",
      "Epoch 1 - Reconstruction error: 0.23014061588035567\n",
      "Epoch 101 - Reconstruction error: 0.08888469553990155\n",
      "Epoch 201 - Reconstruction error: 0.05977914618365551\n",
      "Epoch 301 - Reconstruction error: 0.04527134877050846\n",
      "Epoch 401 - Reconstruction error: 0.03857493672591311\n",
      "Epoch 501 - Reconstruction error: 0.030904941417941787\n",
      "Epoch 601 - Reconstruction error: 0.027598929277775207\n",
      "Epoch 701 - Reconstruction error: 0.024631059979699083\n",
      "Epoch 801 - Reconstruction error: 0.020735732304636743\n",
      "Epoch 901 - Reconstruction error: 0.01996301750008291\n"
     ]
    },
    {
     "data": {
      "image/png": "[encoded data removed]",
      "text/plain": [
       "<Figure size 432x288 with 1 Axes>"
      ]
     },
     "metadata": {
      "needs_background": "light"
     },
     "output_type": "display_data"
    },
    {
     "data": {
      "image/png": "[encoded data removed]",
      "text/plain": [
       "<Figure size 432x288 with 1 Axes>"
      ]
     },
     "metadata": {
      "needs_background": "light"
     },
     "output_type": "display_data"
    },
    {
     "data": {
      "image/png": "[encoded data removed]",
      "text/plain": [
       "<Figure size 432x288 with 1 Axes>"
      ]
     },
     "metadata": {
      "needs_background": "light"
     },
     "output_type": "display_data"
    }
   ],
   "source": [
    "from principal_DBN_alpha import init_DBN, train_DBN, generer_image_DBN\n",
    "\n",
    "dbn = init_DBN([input_size, 100, 50])\n",
    "dbn = train_DBN(dbn, 1000, 1e-1, 32, \n",
    "                ds=BinaryAlphaDigitsDataset(restrict_labels=restrict_labels,\n",
    "                                            mode='train'))\n",
    "generer_image_DBN(dbn, 301, 3)"
   ]
  },
  {
   "attachments": {},
   "cell_type": "markdown",
   "metadata": {},
   "source": [
    "# DNN"
   ]
  },
  {
   "cell_type": "code",
   "execution_count": 6,
   "metadata": {},
   "outputs": [],
   "source": [
    "from principal_DNN_MNIST import init_DNN, entree_sortie_reseau, pretrain_DNN, retropropagation\n",
    "\n",
    "input_size = 784 # 28 * 28\n",
    "output_size = 10 # 10 numbers"
   ]
  },
  {
   "cell_type": "code",
   "execution_count": 7,
   "metadata": {},
   "outputs": [
    {
     "name": "stdout",
     "output_type": "stream",
     "text": [
      "Training RBM 1\n",
      "Epoch 1 - Reconstruction error: 0.04138036526770889\n",
      "Epoch 2 - Reconstruction error: 0.027397936375300438\n",
      "Epoch 3 - Reconstruction error: 0.023932719313777686\n",
      "Training RBM 2\n",
      "Epoch 1 - Reconstruction error: 0.08345584548808502\n",
      "Epoch 2 - Reconstruction error: 0.04901690036147832\n",
      "Epoch 3 - Reconstruction error: 0.042792355539685384\n",
      "Training RBM 3\n",
      "Epoch 1 - Reconstruction error: 0.09763496264564743\n",
      "Epoch 2 - Reconstruction error: 0.059022666056026164\n",
      "Epoch 3 - Reconstruction error: 0.05207509810145357\n"
     ]
    }
   ],
   "source": [
    "dnn = init_DNN([input_size, 200, 100, 50, output_size])\n",
    "dnn = pretrain_DNN(dnn, num_iterations=3, learning_rate=5e-2,\n",
    "                   batch_size=32, ds=MNISTDataset(mode='train'))"
   ]
  },
  {
   "cell_type": "code",
   "execution_count": 8,
   "metadata": {},
   "outputs": [
    {
     "name": "stdout",
     "output_type": "stream",
     "text": [
      "Epoch 1 - Loss: 1.9238752868310436\n",
      "Epoch 2 - Loss: 1.8263645959982318\n",
      "Epoch 3 - Loss: 1.8167066288386238\n"
     ]
    }
   ],
   "source": [
    "dnn = retropropagation(dnn, num_iterations=3, learning_rate=5e-3,\n",
    "                       batch_size=8, ds=MNISTDataset(mode='train'))"
   ]
  },
  {
   "cell_type": "code",
   "execution_count": 9,
   "metadata": {},
   "outputs": [],
   "source": [
    "def test_DNN(dnn, ds):\n",
    "    data = ds.data\n",
    "    data = data.reshape((data.shape[0], -1))\n",
    "    labels = ds.labels\n",
    "    logits = entree_sortie_reseau(dnn, data)[-1]\n",
    "    predictions = np.argmax(logits, axis=1)\n",
    "    error_rate = np.mean(predictions != labels)\n",
    "    return error_rate"
   ]
  },
  {
   "cell_type": "code",
   "execution_count": 10,
   "metadata": {},
   "outputs": [
    {
     "name": "stdout",
     "output_type": "stream",
     "text": [
      "Error rate: 24.27%\n"
     ]
    }
   ],
   "source": [
    "error_rate = test_DNN(dnn, ds=MNISTDataset(mode='test'))\n",
    "print(f\"Error rate: {error_rate*100:.2f}%\")"
   ]
  },
  {
   "cell_type": "code",
   "execution_count": null,
   "metadata": {},
   "outputs": [],
   "source": []
  }
 ],
 "metadata": {
  "kernelspec": {
   "display_name": "deeplearning2",
   "language": "python",
   "name": "python3"
  },
  "language_info": {
   "codemirror_mode": {
    "name": "ipython",
    "version": 3
   },
   "file_extension": ".py",
   "mimetype": "text/x-python",
   "name": "python",
   "nbconvert_exporter": "python",
   "pygments_lexer": "ipython3",
   "version": "3.9.13"
  },
  "orig_nbformat": 4
 },
 "nbformat": 4,
 "nbformat_minor": 2
}
