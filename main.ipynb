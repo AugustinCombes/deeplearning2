{
 "cells": [
  {
   "cell_type": "code",
   "execution_count": 1,
   "metadata": {},
   "outputs": [],
   "source": [
    "import matplotlib.pyplot as plt\n",
    "import numpy as np\n",
    "from data.alphadigits import BinaryAlphaDigitsDataset\n",
    "from torch.utils.data import DataLoader"
   ]
  },
  {
   "cell_type": "code",
   "execution_count": 2,
   "metadata": {},
   "outputs": [],
   "source": [
    "restrict_labels = ['a', 'b', 'c', 'd']"
   ]
  },
  {
   "cell_type": "code",
   "execution_count": 3,
   "metadata": {},
   "outputs": [
    {
     "data": {
      "image/png": "[encoded data removed]",
      "text/plain": [
       "<Figure size 432x288 with 1 Axes>"
      ]
     },
     "metadata": {
      "needs_background": "light"
     },
     "output_type": "display_data"
    }
   ],
   "source": [
    "plt.imshow(BinaryAlphaDigitsDataset(restrict_labels=restrict_labels).data[1],\n",
    "           cmap='gray')\n",
    "plt.show()"
   ]
  },
  {
   "attachments": {},
   "cell_type": "markdown",
   "metadata": {},
   "source": [
    "## RBM"
   ]
  },
  {
   "cell_type": "code",
   "execution_count": 4,
   "metadata": {},
   "outputs": [],
   "source": [
    "from principal_RBM_alpha import init_RBM, train_RBM, generer_image_RBM"
   ]
  },
  {
   "cell_type": "code",
   "execution_count": 5,
   "metadata": {},
   "outputs": [
    {
     "name": "stdout",
     "output_type": "stream",
     "text": [
      "Epoch 1 - Reconstruction error: 0.20569565045432098\n",
      "Epoch 101 - Reconstruction error: 0.008694810353870736\n",
      "Epoch 201 - Reconstruction error: 0.0027950820085684766\n",
      "Epoch 301 - Reconstruction error: 0.0012665751446127005\n",
      "Epoch 401 - Reconstruction error: 0.0008171661805603007\n",
      "Epoch 501 - Reconstruction error: 0.0004139519741723442\n",
      "Epoch 601 - Reconstruction error: 0.00032399759158163835\n",
      "Epoch 701 - Reconstruction error: 0.0002955666194321035\n",
      "Epoch 801 - Reconstruction error: 0.0001609043553642561\n",
      "Epoch 901 - Reconstruction error: 0.00016956545997875443\n",
      "Epoch 1001 - Reconstruction error: 0.00016777569403875482\n"
     ]
    },
    {
     "data": {
      "image/png": "[encoded data removed]",
      "text/plain": [
       "<Figure size 432x288 with 1 Axes>"
      ]
     },
     "metadata": {
      "needs_background": "light"
     },
     "output_type": "display_data"
    }
   ],
   "source": [
    "rbm = init_RBM(320, 100)\n",
    "rbm = train_RBM(rbm, epochs=1001,\n",
    "                ds=BinaryAlphaDigitsDataset(restrict_labels=restrict_labels))\n",
    "generer_image_RBM(rbm, num_iterations=500, num_images=1)"
   ]
  },
  {
   "cell_type": "markdown",
   "metadata": {},
   "source": [
    "## DBN"
   ]
  },
  {
   "cell_type": "code",
   "execution_count": 6,
   "metadata": {},
   "outputs": [
    {
     "name": "stdout",
     "output_type": "stream",
     "text": [
      "Training RBM 1\n",
      "Epoch 1 - Reconstruction error: 0.22675140097947497\n",
      "Epoch 101 - Reconstruction error: 0.06700954748112542\n",
      "Epoch 201 - Reconstruction error: 0.0391343324503948\n",
      "Epoch 301 - Reconstruction error: 0.027058756180016186\n",
      "Epoch 401 - Reconstruction error: 0.0190925005345416\n",
      "Epoch 501 - Reconstruction error: 0.014437407524786337\n",
      "Epoch 601 - Reconstruction error: 0.011426736008691499\n",
      "Epoch 701 - Reconstruction error: 0.008748762615573655\n",
      "Epoch 801 - Reconstruction error: 0.007100374058754581\n",
      "Epoch 901 - Reconstruction error: 0.00583682413670717\n",
      "Training RBM 2\n",
      "Epoch 1 - Reconstruction error: 0.22923097576012072\n",
      "Epoch 101 - Reconstruction error: 0.0859522648207736\n",
      "Epoch 201 - Reconstruction error: 0.06024156618652472\n",
      "Epoch 301 - Reconstruction error: 0.04818330581644269\n",
      "Epoch 401 - Reconstruction error: 0.03995776243236017\n",
      "Epoch 501 - Reconstruction error: 0.031116637265825985\n",
      "Epoch 601 - Reconstruction error: 0.027822548295714473\n",
      "Epoch 701 - Reconstruction error: 0.02563810412939551\n",
      "Epoch 801 - Reconstruction error: 0.022527544172233908\n",
      "Epoch 901 - Reconstruction error: 0.020247940990754193\n"
     ]
    },
    {
     "data": {
      "image/png": "[encoded data removed]",
      "text/plain": [
       "<Figure size 432x288 with 1 Axes>"
      ]
     },
     "metadata": {
      "needs_background": "light"
     },
     "output_type": "display_data"
    },
    {
     "data": {
      "image/png": "[encoded data removed]",
      "text/plain": [
       "<Figure size 432x288 with 1 Axes>"
      ]
     },
     "metadata": {
      "needs_background": "light"
     },
     "output_type": "display_data"
    },
    {
     "data": {
      "image/png": "[encoded data removed]",
      "text/plain": [
       "<Figure size 432x288 with 1 Axes>"
      ]
     },
     "metadata": {
      "needs_background": "light"
     },
     "output_type": "display_data"
    }
   ],
   "source": [
    "from principal_DBN_alpha import init_DBN, train_DBN, generer_image_DBN\n",
    "\n",
    "dbn = init_DBN([320, 100, 50])\n",
    "dbn = train_DBN(dbn, 1000, 1e-1, 32, \n",
    "                ds=BinaryAlphaDigitsDataset(restrict_labels=['a', 'b', 'c', 'd'],\n",
    "                                            mode='train'))\n",
    "generer_image_DBN(dbn, 301, 3)"
   ]
  },
  {
   "attachments": {},
   "cell_type": "markdown",
   "metadata": {},
   "source": [
    "# DNN"
   ]
  },
  {
   "cell_type": "code",
   "execution_count": 7,
   "metadata": {},
   "outputs": [],
   "source": [
    "from principal_DNN_alpha import init_DNN, entree_sortie_reseau, pretrain_DNN, retropropagation"
   ]
  },
  {
   "cell_type": "code",
   "execution_count": 8,
   "metadata": {},
   "outputs": [
    {
     "name": "stdout",
     "output_type": "stream",
     "text": [
      "Training RBM 1\n",
      "Epoch 1 - Reconstruction error: 0.22414817959072122\n",
      "Epoch 101 - Reconstruction error: 0.04129012723699721\n",
      "Epoch 201 - Reconstruction error: 0.015286034701822094\n",
      "Epoch 301 - Reconstruction error: 0.007140960306501955\n",
      "Epoch 401 - Reconstruction error: 0.0037188795581938245\n",
      "Epoch 501 - Reconstruction error: 0.0022733433165005716\n",
      "Training RBM 2\n",
      "Epoch 1 - Reconstruction error: 0.21636119248555782\n",
      "Epoch 101 - Reconstruction error: 0.05166100310445006\n",
      "Epoch 201 - Reconstruction error: 0.028678186581448772\n",
      "Epoch 301 - Reconstruction error: 0.017906008069082494\n",
      "Epoch 401 - Reconstruction error: 0.012516751743721383\n",
      "Epoch 501 - Reconstruction error: 0.009149564062074195\n",
      "Training RBM 3\n",
      "Epoch 1 - Reconstruction error: 0.23158820497527882\n",
      "Epoch 101 - Reconstruction error: 0.07578617454447441\n",
      "Epoch 201 - Reconstruction error: 0.05053175356767803\n",
      "Epoch 301 - Reconstruction error: 0.03988872382906171\n",
      "Epoch 401 - Reconstruction error: 0.032671179731843907\n",
      "Epoch 501 - Reconstruction error: 0.02769529257870177\n"
     ]
    }
   ],
   "source": [
    "dnn = init_DNN([320, 200, 100, 50, len(restrict_labels)])\n",
    "dnn = pretrain_DNN(dnn, 501, 1e-1, 32,\n",
    "                   ds=BinaryAlphaDigitsDataset(restrict_labels=restrict_labels))"
   ]
  },
  {
   "cell_type": "code",
   "execution_count": 9,
   "metadata": {},
   "outputs": [
    {
     "name": "stdout",
     "output_type": "stream",
     "text": [
      "Epoch 1 - Loss: 1.3865153290558159\n",
      "Epoch 21 - Loss: 1.3465866220857985\n",
      "Epoch 41 - Loss: 1.3101124503437833\n",
      "Epoch 61 - Loss: 1.2761263329590347\n",
      "Epoch 81 - Loss: 1.2461868844847135\n",
      "Epoch 101 - Loss: 1.22024868287236\n",
      "Epoch 121 - Loss: 1.1953165907188328\n",
      "Epoch 141 - Loss: 1.1728425720843005\n",
      "Epoch 161 - Loss: 1.1538187938067412\n",
      "Epoch 181 - Loss: 1.1386421038074162\n",
      "Epoch 201 - Loss: 1.1215519552536162\n",
      "Epoch 221 - Loss: 1.1045772321507246\n",
      "Epoch 241 - Loss: 1.0902357111075358\n",
      "Epoch 261 - Loss: 1.079623504075331\n",
      "Epoch 281 - Loss: 1.066032457767845\n",
      "Epoch 301 - Loss: 1.0552460933592076\n",
      "Epoch 321 - Loss: 1.0451400400067634\n",
      "Epoch 341 - Loss: 1.0341814008973835\n",
      "Epoch 361 - Loss: 1.0290628262234076\n",
      "Epoch 381 - Loss: 1.016832589132633\n",
      "Epoch 401 - Loss: 1.0107378386345176\n",
      "Epoch 421 - Loss: 1.0045778380028005\n",
      "Epoch 441 - Loss: 1.0008467997923687\n",
      "Epoch 461 - Loss: 0.9937232433581903\n",
      "Epoch 481 - Loss: 0.9850524526709629\n",
      "Epoch 501 - Loss: 0.9821204382730178\n"
     ]
    }
   ],
   "source": [
    "dnn = retropropagation(dnn, 501, 5e-4, 8,\n",
    "                       ds=BinaryAlphaDigitsDataset(restrict_labels=restrict_labels))"
   ]
  },
  {
   "cell_type": "code",
   "execution_count": 10,
   "metadata": {},
   "outputs": [],
   "source": [
    "def test_DNN(dnn, ds):\n",
    "    data = ds.data\n",
    "    data = data.reshape((data.shape[0], -1))\n",
    "    labels = ds.labels\n",
    "    logits = entree_sortie_reseau(dnn, data)[-1]\n",
    "    predictions = np.argmax(logits, axis=1)\n",
    "    error_rate = np.mean(predictions != labels)\n",
    "    return error_rate"
   ]
  },
  {
   "cell_type": "code",
   "execution_count": 11,
   "metadata": {},
   "outputs": [
    {
     "name": "stdout",
     "output_type": "stream",
     "text": [
      "Error rate: 6.41%\n"
     ]
    }
   ],
   "source": [
    "error_rate = test_DNN(dnn, BinaryAlphaDigitsDataset(restrict_labels=restrict_labels))\n",
    "print(f\"Error rate: {error_rate*100:.2f}%\")"
   ]
  }
 ],
 "metadata": {
  "kernelspec": {
   "display_name": "deeplearning2",
   "language": "python",
   "name": "python3"
  },
  "language_info": {
   "codemirror_mode": {
    "name": "ipython",
    "version": 3
   },
   "file_extension": ".py",
   "mimetype": "text/x-python",
   "name": "python",
   "nbconvert_exporter": "python",
   "pygments_lexer": "ipython3",
   "version": "3.9.13"
  },
  "orig_nbformat": 4
 },
 "nbformat": 4,
 "nbformat_minor": 2
}
